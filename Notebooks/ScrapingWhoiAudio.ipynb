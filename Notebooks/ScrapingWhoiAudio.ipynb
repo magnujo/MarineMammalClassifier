{
 "cells": [
  {
   "cell_type": "code",
   "execution_count": 6,
   "id": "a805173b",
   "metadata": {},
   "outputs": [],
   "source": [
    "import os\n",
    "\n",
    "from Utils import FileUtils as filu\n",
    "import pandas as pd\n",
    "pd.set_option('display.max_columns', None)\n",
    "pd.set_option('display.max_rows', None)\n",
    "pd.set_option('display.max_colwidth', 40)\n",
    "pd.options.mode.chained_assignment = None\n",
    "from bs4 import BeautifulSoup\n",
    "import requests\n",
    "import re\n",
    "from requests_html import HTMLSession"
   ]
  },
  {
   "cell_type": "code",
   "execution_count": null,
   "id": "9d93fe5f",
   "metadata": {},
   "outputs": [],
   "source": [
    "s = HTMLSession()"
   ]
  },
  {
   "cell_type": "code",
   "execution_count": null,
   "id": "2d1f76ea",
   "metadata": {},
   "outputs": [],
   "source": [
    "def getdata(url):\n",
    "    headers = {\"User-Agent\":\n",
    "              \"Mozilla/5.0 (Windows NT 10.0; Win64; x64) \"\n",
    "              \"AppleWebKit/537.36 (KHTML, like Gecko) Chrome/106.0.0.0 Safari/537.36\"}\n",
    "    r = s.get(url, headers=headers)\n",
    "    soup = BeautifulSoup(r.text, 'html.parser')\n",
    "    return soup"
   ]
  },
  {
   "cell_type": "code",
   "execution_count": null,
   "id": "82c78051",
   "metadata": {},
   "outputs": [],
   "source": [
    "url = \"https://whoicf2.whoi.edu/science/B/whalesounds/index.cfm\"\n",
    "base_url = \"https://whoicf2.whoi.edu\"\n",
    "\n",
    "soup = getdata(url)"
   ]
  },
  {
   "cell_type": "code",
   "execution_count": null,
   "id": "0489a348",
   "metadata": {},
   "outputs": [],
   "source": [
    "options = soup.find(\"form\", {\"name\": \"jump1\"}).find_all(\"option\")"
   ]
  },
  {
   "cell_type": "code",
   "execution_count": null,
   "id": "704e57ac",
   "metadata": {},
   "outputs": [],
   "source": [
    "pages = list({option.text.replace(\"\\n\", \"\").replace(\"\\t\", \"\")[1:]:\n",
    "                  option[\"value\"] for option in options}.items())[1:]"
   ]
  },
  {
   "cell_type": "code",
   "execution_count": null,
   "id": "e8242629",
   "metadata": {},
   "outputs": [],
   "source": [
    "audio_links = {}\n",
    "for (whale_name, page_link) in pages:\n",
    "    audio_links[whale_name] = []\n",
    "    page = getdata(page_link)\n",
    "    for a in page.find(\"table\").find_all(\"a\", href=True):\n",
    "        link = a[\"href\"]\n",
    "        if link.split(\".\")[-1] == \"wav\" or link.split(\".\")[-1] == \"mp3\":\n",
    "            path = base_url + link\n",
    "            audio_links[whale_name].append(path)"
   ]
  },
  {
   "cell_type": "code",
   "execution_count": null,
   "id": "dabd5b8a",
   "metadata": {},
   "outputs": [],
   "source": [
    "for (name, links) in list(audio_links.items()):\n",
    "    dir_path = os.path.join(r\"C:\\datasets\\whoi\", name)\n",
    "    print(f\"Saving to {dir_path}\")\n",
    "    os.mkdir(dir_path)\n",
    "    for i, link in enumerate(links):\n",
    "        format = link.split(\".\")[-1]\n",
    "        audio_path = os.path.join(dir_path, name + \" \" + str(i) + \".\" + format)\n",
    "        filu.download_and_save_file(audio_path, link)"
   ]
  }
 ],
 "metadata": {
  "kernelspec": {
   "display_name": "Python 3 (ipykernel)",
   "language": "python",
   "name": "python3"
  },
  "language_info": {
   "codemirror_mode": {
    "name": "ipython",
    "version": 3
   },
   "file_extension": ".py",
   "mimetype": "text/x-python",
   "name": "python",
   "nbconvert_exporter": "python",
   "pygments_lexer": "ipython3",
   "version": "3.9.15"
  }
 },
 "nbformat": 4,
 "nbformat_minor": 5
}
