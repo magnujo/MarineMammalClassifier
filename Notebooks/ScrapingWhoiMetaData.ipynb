{
 "cells": [
  {
   "cell_type": "code",
   "execution_count": 1,
   "id": "a805173b",
   "metadata": {},
   "outputs": [
    {
     "ename": "ModuleNotFoundError",
     "evalue": "No module named 'Utils'",
     "output_type": "error",
     "traceback": [
      "\u001B[1;31m---------------------------------------------------------------------------\u001B[0m",
      "\u001B[1;31mModuleNotFoundError\u001B[0m                       Traceback (most recent call last)",
      "Cell \u001B[1;32mIn[1], line 3\u001B[0m\n\u001B[0;32m      1\u001B[0m \u001B[38;5;28;01mimport\u001B[39;00m \u001B[38;5;21;01mos\u001B[39;00m\n\u001B[1;32m----> 3\u001B[0m \u001B[38;5;28;01mfrom\u001B[39;00m \u001B[38;5;21;01mUtils\u001B[39;00m \u001B[38;5;28;01mimport\u001B[39;00m FileUtils \u001B[38;5;28;01mas\u001B[39;00m filu\n\u001B[0;32m      4\u001B[0m \u001B[38;5;28;01mimport\u001B[39;00m \u001B[38;5;21;01mpandas\u001B[39;00m \u001B[38;5;28;01mas\u001B[39;00m \u001B[38;5;21;01mpd\u001B[39;00m\n\u001B[0;32m      5\u001B[0m pd\u001B[38;5;241m.\u001B[39mset_option(\u001B[38;5;124m'\u001B[39m\u001B[38;5;124mdisplay.max_columns\u001B[39m\u001B[38;5;124m'\u001B[39m, \u001B[38;5;28;01mNone\u001B[39;00m)\n",
      "\u001B[1;31mModuleNotFoundError\u001B[0m: No module named 'Utils'"
     ]
    }
   ],
   "source": [
    "import os\n",
    "\n",
    "from Utils import FileUtils as filu\n",
    "import pandas as pd\n",
    "pd.set_option('display.max_columns', None)\n",
    "pd.set_option('display.max_rows', None)\n",
    "pd.set_option('display.max_colwidth', 40)\n",
    "pd.options.mode.chained_assignment = None\n",
    "from bs4 import BeautifulSoup\n",
    "import requests\n",
    "import re\n",
    "from requests_html import HTMLSession\n",
    "import numpy as np"
   ]
  },
  {
   "cell_type": "code",
   "execution_count": null,
   "id": "4b05d393",
   "metadata": {},
   "outputs": [],
   "source": [
    "s = HTMLSession()"
   ]
  },
  {
   "cell_type": "code",
   "execution_count": null,
   "id": "c87d2e05",
   "metadata": {},
   "outputs": [],
   "source": [
    "def getdata(url):\n",
    "    headers = {\"User-Agent\":\n",
    "              \"Mozilla/5.0 (Windows NT 10.0; Win64; x64)\"\n",
    "              \"AppleWebKit/537.36 (KHTML, like Gecko) Chrome/106.0.0.0 Safari/537.36\"}\n",
    "    r = s.get(url, headers=headers)\n",
    "    soup = BeautifulSoup(r.text, 'html.parser')\n",
    "    return soup"
   ]
  },
  {
   "cell_type": "code",
   "execution_count": null,
   "id": "05cac965",
   "metadata": {},
   "outputs": [],
   "source": [
    "url = \"https://whoicf2.whoi.edu/science/B/whalesounds/index.cfm\"\n",
    "base_url = \"https://whoicf2.whoi.edu\"\n",
    "\n",
    "soup = getdata(url)"
   ]
  },
  {
   "cell_type": "code",
   "execution_count": null,
   "id": "2b7f5279",
   "metadata": {},
   "outputs": [],
   "source": [
    "options = soup.find(\"form\", {\"name\": \"jump1\"}).find_all(\"option\")"
   ]
  },
  {
   "cell_type": "code",
   "execution_count": null,
   "id": "c06d4f0b",
   "metadata": {},
   "outputs": [],
   "source": [
    "pages = list({option.text.replace(\"\\n\", \"\").replace(\"\\t\", \"\")[1:]:\n",
    "                  option[\"value\"] for option in options}.items())[1:]"
   ]
  },
  {
   "cell_type": "code",
   "execution_count": null,
   "id": "7b3f2c82",
   "metadata": {
    "scrolled": false
   },
   "outputs": [],
   "source": [
    "df = pd.DataFrame(columns=[\"species\", \"filename\"])\n",
    "pages = list({option.text.replace(\"\\n\", \"\").replace(\"\\t\", \"\")[1:]:\n",
    "                  option[\"value\"] for option in options}.items())[1:]\n",
    "first = True\n",
    "meta_links = {}\n",
    "for i, (whale_name, page_link) in enumerate(pages):\n",
    "    print(whale_name)\n",
    "    meta_links[whale_name] = []\n",
    "    page = getdata(page_link)\n",
    "    rec_num = 0\n",
    "    for a in page.find(\"table\").find_all(\"a\", href=True):\n",
    "        link = a[\"href\"]\n",
    "        if link.split(\".\")[-1] != \"wav\" and link.split(\".\")[-1] != \"mp3\":\n",
    "            meta_link = base_url + \"/science/B/whalesounds/\" + link.split(\"'\")[1]\n",
    "            page = getdata(meta_link)\n",
    "            table = page.find_all(\"table\")[1]\n",
    "            #columns = table.find(\"tr\").text.split(\"\\n\")[:2]\n",
    "            \n",
    "\n",
    "            cols = []\n",
    "            filename = whale_name + \" \" + str(rec_num) + \".wav\"\n",
    "            rows = [whale_name, filename]            \n",
    "            \n",
    "            for j, data in enumerate(table.find_all(\"td\")):\n",
    "                if j % 2 == 0: \n",
    "                    cols.append(data.text)\n",
    "                else:\n",
    "                    rows.append(data.text)            \n",
    "            \n",
    "            if first:\n",
    "                for col in cols:\n",
    "                    df[col] = np.nan\n",
    "                first = False\n",
    "            \n",
    "            df.loc[len(df.index)] = rows\n",
    "            rec_num = rec_num + 1\n",
    "df.to_csv(path_or_buf = r\"C:\\datasets\\whoi\\meta.csv\")"
   ]
  }
 ],
 "metadata": {
  "kernelspec": {
   "display_name": "Python 3 (ipykernel)",
   "language": "python",
   "name": "python3"
  },
  "language_info": {
   "codemirror_mode": {
    "name": "ipython",
    "version": 3
   },
   "file_extension": ".py",
   "mimetype": "text/x-python",
   "name": "python",
   "nbconvert_exporter": "python",
   "pygments_lexer": "ipython3",
   "version": "3.9.15"
  }
 },
 "nbformat": 4,
 "nbformat_minor": 5
}
